{
  "nbformat": 4,
  "nbformat_minor": 0,
  "metadata": {
    "colab": {
      "provenance": []
    },
    "kernelspec": {
      "name": "python3",
      "display_name": "Python 3"
    },
    "language_info": {
      "name": "python"
    }
  },
  "cells": [
    {
      "cell_type": "code",
      "execution_count": null,
      "metadata": {
        "id": "7DbPO3Z9JPRU"
      },
      "outputs": [],
      "source": []
    },
    {
      "cell_type": "markdown",
      "source": [
        "my_favorite_songs"
      ],
      "metadata": {
        "id": "ffAgTRwqJQJj"
      }
    },
    {
      "cell_type": "code",
      "source": [
        "print('my_favorite_songs')\n",
        "greeting = 'Waste a Moment, Staying\\' Alive, A Sorta Fairytale, Start Me Up, New Salvation'"
      ],
      "metadata": {
        "colab": {
          "base_uri": "https://localhost:8080/"
        },
        "id": "dOUwuHxzJgoK",
        "outputId": "ae864eef-18b3-4c46-cf11-4698efc1acae"
      },
      "execution_count": null,
      "outputs": [
        {
          "output_type": "stream",
          "name": "stdout",
          "text": [
            "my_favorite_songs\n"
          ]
        }
      ]
    },
    {
      "cell_type": "code",
      "source": [
        "greeting[0:14]\n",
        "print(greeting[0:14])"
      ],
      "metadata": {
        "colab": {
          "base_uri": "https://localhost:8080/"
        },
        "id": "0tfIfp8VPr67",
        "outputId": "2ef922ea-3607-4161-f680-fba8cea11ff4"
      },
      "execution_count": null,
      "outputs": [
        {
          "output_type": "stream",
          "name": "stdout",
          "text": [
            "Waste a Moment\n"
          ]
        }
      ]
    },
    {
      "cell_type": "code",
      "source": [
        "greeting[64: ]\n",
        "print(greeting[64: ])"
      ],
      "metadata": {
        "colab": {
          "base_uri": "https://localhost:8080/"
        },
        "id": "BMhj0fEcRZEX",
        "outputId": "68ba9eb4-611b-4d27-b4ad-90aae9bba215"
      },
      "execution_count": null,
      "outputs": [
        {
          "output_type": "stream",
          "name": "stdout",
          "text": [
            "New Salvation\n"
          ]
        }
      ]
    },
    {
      "cell_type": "code",
      "source": [
        "greeting[16:31]\n",
        "print(greeting[16:31])"
      ],
      "metadata": {
        "colab": {
          "base_uri": "https://localhost:8080/"
        },
        "id": "-89yPPv1Sk6r",
        "outputId": "b4aae57c-e780-4dec-dcdb-ef2866d3ab07"
      },
      "execution_count": null,
      "outputs": [
        {
          "output_type": "stream",
          "name": "stdout",
          "text": [
            "Staying' Alive,\n"
          ]
        }
      ]
    },
    {
      "cell_type": "code",
      "source": [
        "greeting[-26:-15]\n",
        "print(greeting[-26:-15])"
      ],
      "metadata": {
        "colab": {
          "base_uri": "https://localhost:8080/"
        },
        "id": "df1WR0WHTKJa",
        "outputId": "73e1aa86-14bf-4213-d9cc-100ece3c84d7"
      },
      "execution_count": null,
      "outputs": [
        {
          "output_type": "stream",
          "name": "stdout",
          "text": [
            "Start Me Up\n"
          ]
        }
      ]
    }
  ]
}