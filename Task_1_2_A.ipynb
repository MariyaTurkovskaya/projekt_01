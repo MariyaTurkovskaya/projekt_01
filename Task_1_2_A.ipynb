{
  "nbformat": 4,
  "nbformat_minor": 0,
  "metadata": {
    "colab": {
      "provenance": []
    },
    "kernelspec": {
      "name": "python3",
      "display_name": "Python 3"
    },
    "language_info": {
      "name": "python"
    }
  },
  "cells": [
    {
      "cell_type": "code",
      "execution_count": null,
      "metadata": {
        "id": "ikbDCXTCiETM"
      },
      "outputs": [],
      "source": [
        "my_favorite_songs "
      ]
    },
    {
      "cell_type": "markdown",
      "source": [
        "A. my favorite \n",
        "songs "
      ],
      "metadata": {
        "id": "PA4oIMT4iL7n"
      }
    },
    {
      "cell_type": "code",
      "source": [
        "\n",
        "my_favorite_songs = [\n",
        "    ['Waste a Moment', 3.03],\n",
        "    ['New Salvation', 4.02],\n",
        "    ['Staying\\' Alive', 3.40],\n",
        "    ['Out of Touch', 3.03],\n",
        "    ['A Sorta Fairytale', 5.28],\n",
        "    ['Easy', 4.15],\n",
        "    ['Beautiful Day', 4.04],\n",
        "    ['Nowhere to Run', 2.58],\n",
        "    ['In This World', 4.02],\n",
        "]"
      ],
      "metadata": {
        "id": "kSQnyAf4iRCA"
      },
      "execution_count": null,
      "outputs": []
    },
    {
      "cell_type": "code",
      "source": [
        "print('my_favorite_songs')"
      ],
      "metadata": {
        "colab": {
          "base_uri": "https://localhost:8080/"
        },
        "id": "EA-uUdHIkpiq",
        "outputId": "b1104344-d717-42f9-ccbf-e55488246aeb"
      },
      "execution_count": null,
      "outputs": [
        {
          "output_type": "stream",
          "name": "stdout",
          "text": [
            "my_favorite_songs\n"
          ]
        }
      ]
    },
    {
      "cell_type": "markdown",
      "source": [],
      "metadata": {
        "id": "zYutJH8nk6lw"
      }
    },
    {
      "cell_type": "code",
      "source": [
        "import random\n",
        "my_favorite_songs = [\n",
        "    ['Waste a Moment', 3.03],\n",
        "    ['New Salvation', 4.02],\n",
        "    ['Staying\\' Alive', 3.40],\n",
        "    ['Out of Touch', 3.03],\n",
        "    ['A Sorta Fairytale', 5.28],\n",
        "    ['Easy', 4.15],\n",
        "    ['Beautiful Day', 4.04],\n",
        "    ['Nowhere to Run', 2.58],\n",
        "    ['In This World', 4.02],\n",
        "]"
      ],
      "metadata": {
        "id": "QHb82gh_6W97"
      },
      "execution_count": null,
      "outputs": []
    },
    {
      "cell_type": "code",
      "source": [],
      "metadata": {
        "id": "A1QuusTvDEuk"
      },
      "execution_count": null,
      "outputs": []
    },
    {
      "cell_type": "code",
      "source": [
        "random.sample (my_favorite_songs, 3)"
      ],
      "metadata": {
        "colab": {
          "base_uri": "https://localhost:8080/"
        },
        "id": "B2cdVvJU7gw7",
        "outputId": "9a7e1fde-6d41-4d4c-c1ce-13f3e5909b46"
      },
      "execution_count": null,
      "outputs": [
        {
          "output_type": "execute_result",
          "data": {
            "text/plain": [
              "[['Beautiful Day', 4.04], ['New Salvation', 4.02], ['A Sorta Fairytale', 5.28]]"
            ]
          },
          "metadata": {},
          "execution_count": 29
        }
      ]
    },
    {
      "cell_type": "code",
      "source": [
        "\n",
        "three_songs = my_favorite_songs[7][1] + my_favorite_songs[2][1] + my_favorite_songs[5][1]\n",
        "three_songs = round(three_songs, 2)\n",
        "print('Три песни звучат', three_songs)\n"
      ],
      "metadata": {
        "colab": {
          "base_uri": "https://localhost:8080/"
        },
        "id": "nQaFO06wARe1",
        "outputId": "635c2cd6-b21c-4e98-c321-cfb28960b26c"
      },
      "execution_count": null,
      "outputs": [
        {
          "output_type": "stream",
          "name": "stdout",
          "text": [
            "Три песни звучат 10.13\n"
          ]
        }
      ]
    },
    {
      "cell_type": "markdown",
      "source": [
        "B. my favorite songs dict\n"
      ],
      "metadata": {
        "id": "yhxpGZJQCtiP"
      }
    },
    {
      "cell_type": "code",
      "source": [
        "import random\n",
        "my_favorite_songs_dict = {\n",
        "    'Waste a Moment': 3.03,\n",
        "    'New Salvation': 4.02,\n",
        "    'Staying\\' Alive': 3.40,\n",
        "    'Out of Touch': 3.03,\n",
        "    'A Sorta Fairytale': 5.28,\n",
        "    'Easy': 4.15,\n",
        "    'Beautiful Day': 4.04,\n",
        "    'Nowhere to Run': 2.58,\n",
        "    'In This World': 4.02,\n",
        "}\n"
      ],
      "metadata": {
        "id": "qbXkdsm9DF1M"
      },
      "execution_count": null,
      "outputs": []
    },
    {
      "cell_type": "code",
      "source": [
        "print('my_favorite_songs_dict')"
      ],
      "metadata": {
        "colab": {
          "base_uri": "https://localhost:8080/"
        },
        "id": "7kH4NWmiKsKn",
        "outputId": "77a1632a-595b-4af4-dc1e-48b5921c6e3f"
      },
      "execution_count": 59,
      "outputs": [
        {
          "output_type": "stream",
          "name": "stdout",
          "text": [
            "my_favorite_songs_dict\n"
          ]
        }
      ]
    },
    {
      "cell_type": "code",
      "source": [
        "print(my_favorite_songs_dict)"
      ],
      "metadata": {
        "colab": {
          "base_uri": "https://localhost:8080/"
        },
        "id": "YlXX4hW_K2Tm",
        "outputId": "7b432816-a360-48ba-f35a-2ffd55cc76a6"
      },
      "execution_count": 60,
      "outputs": [
        {
          "output_type": "stream",
          "name": "stdout",
          "text": [
            "{'Waste a Moment': 3.03, 'New Salvation': 4.02, \"Staying' Alive\": 3.4, 'Out of Touch': 3.03, 'A Sorta Fairytale': 5.28, 'Easy': 4.15, 'Beautiful Day': 4.04, 'Nowhere to Run': 2.58, 'In This World': 4.02}\n"
          ]
        }
      ]
    }
  ]
}